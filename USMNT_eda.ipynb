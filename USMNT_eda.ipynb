{
 "cells": [
  {
   "cell_type": "code",
   "execution_count": 78,
   "id": "9da2eace",
   "metadata": {},
   "outputs": [],
   "source": [
    "import pandas as pd\n",
    "import seaborn as sns\n",
    "import matplotlib.pyplot as plt"
   ]
  },
  {
   "cell_type": "markdown",
   "id": "a74777c0",
   "metadata": {},
   "source": [
    "use pandas to read in the csv file and check if it is properly formatted"
   ]
  },
  {
   "cell_type": "code",
   "execution_count": 79,
   "id": "30d09c3a",
   "metadata": {},
   "outputs": [
    {
     "data": {
      "text/html": [
       "<div>\n",
       "<style scoped>\n",
       "    .dataframe tbody tr th:only-of-type {\n",
       "        vertical-align: middle;\n",
       "    }\n",
       "\n",
       "    .dataframe tbody tr th {\n",
       "        vertical-align: top;\n",
       "    }\n",
       "\n",
       "    .dataframe thead th {\n",
       "        text-align: right;\n",
       "    }\n",
       "</style>\n",
       "<table border=\"1\" class=\"dataframe\">\n",
       "  <thead>\n",
       "    <tr style=\"text-align: right;\">\n",
       "      <th></th>\n",
       "      <th>league</th>\n",
       "      <th>country_play_in</th>\n",
       "      <th>team</th>\n",
       "      <th>player_age</th>\n",
       "      <th>player_market_val</th>\n",
       "      <th>player_name</th>\n",
       "      <th>player_position</th>\n",
       "      <th>profile_link</th>\n",
       "    </tr>\n",
       "  </thead>\n",
       "  <tbody>\n",
       "    <tr>\n",
       "      <th>0</th>\n",
       "      <td>EPL</td>\n",
       "      <td>UK</td>\n",
       "      <td>Arsenal</td>\n",
       "      <td>28</td>\n",
       "      <td>5500000</td>\n",
       "      <td>Matt Turner</td>\n",
       "      <td>Goalkeeper</td>\n",
       "      <td>https://www.transfermarkt.com/matt-turner/prof...</td>\n",
       "    </tr>\n",
       "    <tr>\n",
       "      <th>1</th>\n",
       "      <td>MLS</td>\n",
       "      <td>US</td>\n",
       "      <td>NYFC</td>\n",
       "      <td>33</td>\n",
       "      <td>1650000</td>\n",
       "      <td>Sean Johnson</td>\n",
       "      <td>Goalkeeper</td>\n",
       "      <td>https://www.transfermarkt.com/sean-johnson/pro...</td>\n",
       "    </tr>\n",
       "    <tr>\n",
       "      <th>2</th>\n",
       "      <td>Championship</td>\n",
       "      <td>UK</td>\n",
       "      <td>Luton Town</td>\n",
       "      <td>27</td>\n",
       "      <td>880000</td>\n",
       "      <td>Ethan Horvath</td>\n",
       "      <td>Goalkeeper</td>\n",
       "      <td>https://www.transfermarkt.com/ethan-horvath/pr...</td>\n",
       "    </tr>\n",
       "    <tr>\n",
       "      <th>3</th>\n",
       "      <td>Scottish Premiership</td>\n",
       "      <td>Scotland</td>\n",
       "      <td>Celtic</td>\n",
       "      <td>24</td>\n",
       "      <td>7700000</td>\n",
       "      <td>Cameron Carter-Vickers</td>\n",
       "      <td>Centre-Back</td>\n",
       "      <td>https://www.transfermarkt.com/cameron-carter-v...</td>\n",
       "    </tr>\n",
       "    <tr>\n",
       "      <th>4</th>\n",
       "      <td>MLS</td>\n",
       "      <td>US</td>\n",
       "      <td>Nashville FC</td>\n",
       "      <td>29</td>\n",
       "      <td>3850000</td>\n",
       "      <td>Walker Zimmerman</td>\n",
       "      <td>Centre-Back</td>\n",
       "      <td>https://www.transfermarkt.com/walker-zimmerman...</td>\n",
       "    </tr>\n",
       "  </tbody>\n",
       "</table>\n",
       "</div>"
      ],
      "text/plain": [
       "                 league country_play_in          team  player_age  \\\n",
       "0                   EPL              UK       Arsenal          28   \n",
       "1                   MLS              US          NYFC          33   \n",
       "2          Championship              UK    Luton Town          27   \n",
       "3  Scottish Premiership        Scotland        Celtic          24   \n",
       "4                   MLS              US  Nashville FC          29   \n",
       "\n",
       "   player_market_val             player_name player_position  \\\n",
       "0            5500000             Matt Turner      Goalkeeper   \n",
       "1            1650000            Sean Johnson      Goalkeeper   \n",
       "2             880000           Ethan Horvath      Goalkeeper   \n",
       "3            7700000  Cameron Carter-Vickers     Centre-Back   \n",
       "4            3850000        Walker Zimmerman     Centre-Back   \n",
       "\n",
       "                                        profile_link  \n",
       "0  https://www.transfermarkt.com/matt-turner/prof...  \n",
       "1  https://www.transfermarkt.com/sean-johnson/pro...  \n",
       "2  https://www.transfermarkt.com/ethan-horvath/pr...  \n",
       "3  https://www.transfermarkt.com/cameron-carter-v...  \n",
       "4  https://www.transfermarkt.com/walker-zimmerman...  "
      ]
     },
     "execution_count": 79,
     "metadata": {},
     "output_type": "execute_result"
    }
   ],
   "source": [
    "df = pd.read_csv(\"USMNT_data.csv\")\n",
    "df.head()"
   ]
  },
  {
   "cell_type": "markdown",
   "id": "b46089f0",
   "metadata": {},
   "source": [
    "see how many data entries and columns there are"
   ]
  },
  {
   "cell_type": "code",
   "execution_count": 80,
   "id": "505db9f4",
   "metadata": {},
   "outputs": [
    {
     "data": {
      "text/plain": [
       "(59, 8)"
      ]
     },
     "execution_count": 80,
     "metadata": {},
     "output_type": "execute_result"
    }
   ],
   "source": [
    "df.shape"
   ]
  },
  {
   "cell_type": "markdown",
   "id": "f05f928d",
   "metadata": {},
   "source": [
    "showing basic summary stats for the data "
   ]
  },
  {
   "cell_type": "code",
   "execution_count": 81,
   "id": "7bf8608b",
   "metadata": {},
   "outputs": [
    {
     "data": {
      "text/html": [
       "<div>\n",
       "<style scoped>\n",
       "    .dataframe tbody tr th:only-of-type {\n",
       "        vertical-align: middle;\n",
       "    }\n",
       "\n",
       "    .dataframe tbody tr th {\n",
       "        vertical-align: top;\n",
       "    }\n",
       "\n",
       "    .dataframe thead th {\n",
       "        text-align: right;\n",
       "    }\n",
       "</style>\n",
       "<table border=\"1\" class=\"dataframe\">\n",
       "  <thead>\n",
       "    <tr style=\"text-align: right;\">\n",
       "      <th></th>\n",
       "      <th>player_age</th>\n",
       "      <th>player_market_val</th>\n",
       "    </tr>\n",
       "  </thead>\n",
       "  <tbody>\n",
       "    <tr>\n",
       "      <th>count</th>\n",
       "      <td>59.0</td>\n",
       "      <td>59.0</td>\n",
       "    </tr>\n",
       "    <tr>\n",
       "      <th>mean</th>\n",
       "      <td>24.0</td>\n",
       "      <td>7173305.0</td>\n",
       "    </tr>\n",
       "    <tr>\n",
       "      <th>std</th>\n",
       "      <td>4.0</td>\n",
       "      <td>8877120.0</td>\n",
       "    </tr>\n",
       "    <tr>\n",
       "      <th>min</th>\n",
       "      <td>18.0</td>\n",
       "      <td>220000.0</td>\n",
       "    </tr>\n",
       "    <tr>\n",
       "      <th>25%</th>\n",
       "      <td>21.0</td>\n",
       "      <td>2200000.0</td>\n",
       "    </tr>\n",
       "    <tr>\n",
       "      <th>50%</th>\n",
       "      <td>23.0</td>\n",
       "      <td>3850000.0</td>\n",
       "    </tr>\n",
       "    <tr>\n",
       "      <th>75%</th>\n",
       "      <td>26.0</td>\n",
       "      <td>7975000.0</td>\n",
       "    </tr>\n",
       "    <tr>\n",
       "      <th>max</th>\n",
       "      <td>34.0</td>\n",
       "      <td>46200000.0</td>\n",
       "    </tr>\n",
       "  </tbody>\n",
       "</table>\n",
       "</div>"
      ],
      "text/plain": [
       "       player_age  player_market_val\n",
       "count        59.0               59.0\n",
       "mean         24.0          7173305.0\n",
       "std           4.0          8877120.0\n",
       "min          18.0           220000.0\n",
       "25%          21.0          2200000.0\n",
       "50%          23.0          3850000.0\n",
       "75%          26.0          7975000.0\n",
       "max          34.0         46200000.0"
      ]
     },
     "execution_count": 81,
     "metadata": {},
     "output_type": "execute_result"
    }
   ],
   "source": [
    "df.describe().round()"
   ]
  },
  {
   "cell_type": "markdown",
   "id": "3f616e8c",
   "metadata": {},
   "source": [
    "change the data type of to int as it was read in as a str"
   ]
  },
  {
   "cell_type": "code",
   "execution_count": 84,
   "id": "26269485",
   "metadata": {},
   "outputs": [],
   "source": [
    "df = df.astype({'player_market_val':'int'})"
   ]
  },
  {
   "cell_type": "markdown",
   "id": "836c0d44",
   "metadata": {},
   "source": [
    "check to make sure the data type went through"
   ]
  },
  {
   "cell_type": "code",
   "execution_count": 82,
   "id": "0ff396fe",
   "metadata": {},
   "outputs": [
    {
     "name": "stdout",
     "output_type": "stream",
     "text": [
      "<class 'pandas.core.frame.DataFrame'>\n",
      "RangeIndex: 59 entries, 0 to 58\n",
      "Data columns (total 8 columns):\n",
      " #   Column             Non-Null Count  Dtype \n",
      "---  ------             --------------  ----- \n",
      " 0   league             59 non-null     object\n",
      " 1   country_play_in    59 non-null     object\n",
      " 2   team               59 non-null     object\n",
      " 3   player_age         59 non-null     int64 \n",
      " 4   player_market_val  59 non-null     int64 \n",
      " 5   player_name        59 non-null     object\n",
      " 6   player_position    59 non-null     object\n",
      " 7   profile_link       59 non-null     object\n",
      "dtypes: int64(2), object(6)\n",
      "memory usage: 3.8+ KB\n"
     ]
    }
   ],
   "source": [
    "df.info()"
   ]
  },
  {
   "cell_type": "markdown",
   "id": "dd586169",
   "metadata": {},
   "source": [
    "use isna().sum() to make sure there is no missing data, in this case there isn't any so we don't need to fix anything"
   ]
  },
  {
   "cell_type": "code",
   "execution_count": 83,
   "id": "d3f18b49",
   "metadata": {},
   "outputs": [
    {
     "data": {
      "text/plain": [
       "league               0\n",
       "country_play_in      0\n",
       "team                 0\n",
       "player_age           0\n",
       "player_market_val    0\n",
       "player_name          0\n",
       "player_position      0\n",
       "profile_link         0\n",
       "dtype: int64"
      ]
     },
     "execution_count": 83,
     "metadata": {},
     "output_type": "execute_result"
    }
   ],
   "source": [
    "df.isna().sum()"
   ]
  },
  {
   "cell_type": "markdown",
   "id": "f0fa77d1",
   "metadata": {},
   "source": [
    "counting the number of players in each league"
   ]
  },
  {
   "cell_type": "code",
   "execution_count": 85,
   "id": "fb594686",
   "metadata": {},
   "outputs": [
    {
     "data": {
      "text/plain": [
       "MLS                       19\n",
       "EPL                        7\n",
       "Bundesliga                 6\n",
       "Championship               5\n",
       "Belgian Pro League         3\n",
       "La Liga                    3\n",
       "Scottish Premiership       3\n",
       "Ligue 1                    2\n",
       "Eredivise                  2\n",
       "2 Bundesliga               1\n",
       "Portugese Primera          1\n",
       "Serie A                    1\n",
       "Super Lig                  1\n",
       "Serie B                    1\n",
       "Super League Greece        1\n",
       "Championnat National 2     1\n",
       "Segunda Division           1\n",
       "Brasileiro Serie A         1\n",
       "Name: league, dtype: int64"
      ]
     },
     "execution_count": 85,
     "metadata": {},
     "output_type": "execute_result"
    }
   ],
   "source": [
    "df.league.value_counts()"
   ]
  },
  {
   "cell_type": "markdown",
   "id": "6ca176c8",
   "metadata": {},
   "source": [
    "using the counts to display the top 4 leagues USMNT players are in"
   ]
  },
  {
   "cell_type": "code",
   "execution_count": 86,
   "id": "5a54dc53",
   "metadata": {},
   "outputs": [
    {
     "data": {
      "text/plain": [
       "Text(0.5, 1.0, 'Top 4 leagues based off count of USMNT players')"
      ]
     },
     "execution_count": 86,
     "metadata": {},
     "output_type": "execute_result"
    },
    {
     "data": {
      "image/png": "[encoded data removed]",
      "text/plain": [
       "<Figure size 432x288 with 1 Axes>"
      ]
     },
     "metadata": {
      "needs_background": "light"
     },
     "output_type": "display_data"
    }
   ],
   "source": [
    "sns.countplot(y='league',order = df['league'] .value_counts().index[0:4],data = df)\n",
    "plt.title(\"Top 4 leagues based off count of USMNT players\")"
   ]
  },
  {
   "cell_type": "markdown",
   "id": "e0f77e02",
   "metadata": {},
   "source": [
    "counting the number of players playing in each country"
   ]
  },
  {
   "cell_type": "code",
   "execution_count": 87,
   "id": "1a1861d9",
   "metadata": {},
   "outputs": [
    {
     "data": {
      "text/plain": [
       "US             19\n",
       "UK             12\n",
       "Germany         7\n",
       "Spain           4\n",
       "Scotland        3\n",
       "France          3\n",
       "Belgium         3\n",
       "Italy           2\n",
       "Netherlands     2\n",
       "Portugal        1\n",
       "Turkey          1\n",
       "Greece          1\n",
       "Brazil          1\n",
       "Name: country_play_in, dtype: int64"
      ]
     },
     "execution_count": 87,
     "metadata": {},
     "output_type": "execute_result"
    }
   ],
   "source": [
    "df.country_play_in.value_counts()"
   ]
  },
  {
   "cell_type": "markdown",
   "id": "37890fad",
   "metadata": {},
   "source": [
    "using the counts to display the top 4 countries players play in"
   ]
  },
  {
   "cell_type": "code",
   "execution_count": 88,
   "id": "65c49d8a",
   "metadata": {},
   "outputs": [
    {
     "data": {
      "text/plain": [
       "Text(0.5, 1.0, 'Top 4 countries based off count of USMNT players')"
      ]
     },
     "execution_count": 88,
     "metadata": {},
     "output_type": "execute_result"
    },
    {
     "data": {
      "image/png": "[encoded data removed]",
      "text/plain": [
       "<Figure size 432x288 with 1 Axes>"
      ]
     },
     "metadata": {
      "needs_background": "light"
     },
     "output_type": "display_data"
    }
   ],
   "source": [
    "sns.countplot(y=\"country_play_in\",order = df['country_play_in'].value_counts().index[0:4],data =df)\n",
    "plt.title(\"Top 4 countries based off count of USMNT players\")"
   ]
  },
  {
   "cell_type": "markdown",
   "id": "68d0e68f",
   "metadata": {},
   "source": [
    "find the mean of the players age and then their market value"
   ]
  },
  {
   "cell_type": "code",
   "execution_count": 96,
   "id": "30732bd3",
   "metadata": {},
   "outputs": [
    {
     "data": {
      "text/plain": [
       "player_age                23.0\n",
       "player_market_val    3850000.0\n",
       "dtype: float64"
      ]
     },
     "execution_count": 96,
     "metadata": {},
     "output_type": "execute_result"
    }
   ],
   "source": [
    "df[[\"player_age\",\"player_market_val\"]].mean().round(1)\n"
   ]
  },
  {
   "cell_type": "markdown",
   "id": "f0750420",
   "metadata": {},
   "source": [
    "display a table that groups the players to their leagues and sorts by the average value per player"
   ]
  },
  {
   "cell_type": "code",
   "execution_count": 91,
   "id": "6693e7c2",
   "metadata": {},
   "outputs": [
    {
     "data": {
      "text/html": [
       "<div>\n",
       "<style scoped>\n",
       "    .dataframe tbody tr th:only-of-type {\n",
       "        vertical-align: middle;\n",
       "    }\n",
       "\n",
       "    .dataframe tbody tr th {\n",
       "        vertical-align: top;\n",
       "    }\n",
       "\n",
       "    .dataframe thead th {\n",
       "        text-align: right;\n",
       "    }\n",
       "</style>\n",
       "<table border=\"1\" class=\"dataframe\">\n",
       "  <thead>\n",
       "    <tr style=\"text-align: right;\">\n",
       "      <th></th>\n",
       "      <th>player_market_val</th>\n",
       "    </tr>\n",
       "    <tr>\n",
       "      <th>league</th>\n",
       "      <th></th>\n",
       "    </tr>\n",
       "  </thead>\n",
       "  <tbody>\n",
       "    <tr>\n",
       "      <th>Serie A</th>\n",
       "      <td>27500000.0</td>\n",
       "    </tr>\n",
       "    <tr>\n",
       "      <th>EPL</th>\n",
       "      <td>16500000.0</td>\n",
       "    </tr>\n",
       "    <tr>\n",
       "      <th>Bundesliga</th>\n",
       "      <td>12650000.0</td>\n",
       "    </tr>\n",
       "    <tr>\n",
       "      <th>La Liga</th>\n",
       "      <td>12411667.0</td>\n",
       "    </tr>\n",
       "    <tr>\n",
       "      <th>Serie B</th>\n",
       "      <td>9350000.0</td>\n",
       "    </tr>\n",
       "    <tr>\n",
       "      <th>Ligue 1</th>\n",
       "      <td>8250000.0</td>\n",
       "    </tr>\n",
       "    <tr>\n",
       "      <th>Super League Greece</th>\n",
       "      <td>6600000.0</td>\n",
       "    </tr>\n",
       "    <tr>\n",
       "      <th>Portugese Primera</th>\n",
       "      <td>4400000.0</td>\n",
       "    </tr>\n",
       "    <tr>\n",
       "      <th>Scottish Premiership</th>\n",
       "      <td>4216667.0</td>\n",
       "    </tr>\n",
       "    <tr>\n",
       "      <th>MLS</th>\n",
       "      <td>3965789.0</td>\n",
       "    </tr>\n",
       "    <tr>\n",
       "      <th>Championship</th>\n",
       "      <td>3652000.0</td>\n",
       "    </tr>\n",
       "    <tr>\n",
       "      <th>2 Bundesliga</th>\n",
       "      <td>3300000.0</td>\n",
       "    </tr>\n",
       "    <tr>\n",
       "      <th>Belgian Pro League</th>\n",
       "      <td>3226667.0</td>\n",
       "    </tr>\n",
       "    <tr>\n",
       "      <th>Eredivise</th>\n",
       "      <td>2750000.0</td>\n",
       "    </tr>\n",
       "    <tr>\n",
       "      <th>Super Lig</th>\n",
       "      <td>2750000.0</td>\n",
       "    </tr>\n",
       "    <tr>\n",
       "      <th>Brasileiro Serie A</th>\n",
       "      <td>1980000.0</td>\n",
       "    </tr>\n",
       "    <tr>\n",
       "      <th>Segunda Division</th>\n",
       "      <td>550000.0</td>\n",
       "    </tr>\n",
       "    <tr>\n",
       "      <th>Championnat National 2</th>\n",
       "      <td>220000.0</td>\n",
       "    </tr>\n",
       "  </tbody>\n",
       "</table>\n",
       "</div>"
      ],
      "text/plain": [
       "                        player_market_val\n",
       "league                                   \n",
       "Serie A                        27500000.0\n",
       "EPL                            16500000.0\n",
       "Bundesliga                     12650000.0\n",
       "La Liga                        12411667.0\n",
       "Serie B                         9350000.0\n",
       "Ligue 1                         8250000.0\n",
       "Super League Greece             6600000.0\n",
       "Portugese Primera               4400000.0\n",
       "Scottish Premiership            4216667.0\n",
       "MLS                             3965789.0\n",
       "Championship                    3652000.0\n",
       "2 Bundesliga                    3300000.0\n",
       "Belgian Pro League              3226667.0\n",
       "Eredivise                       2750000.0\n",
       "Super Lig                       2750000.0\n",
       "Brasileiro Serie A              1980000.0\n",
       "Segunda Division                 550000.0\n",
       "Championnat National 2           220000.0"
      ]
     },
     "execution_count": 91,
     "metadata": {},
     "output_type": "execute_result"
    }
   ],
   "source": [
    "df.groupby(\"league\")[[\"player_market_val\"]].mean().round().sort_values([\"player_market_val\"], ascending = False)"
   ]
  },
  {
   "cell_type": "markdown",
   "id": "66c0e52e",
   "metadata": {},
   "source": [
    "displaying the top 5 leagues from the previous table"
   ]
  },
  {
   "cell_type": "code",
   "execution_count": 92,
   "id": "d0603121",
   "metadata": {},
   "outputs": [
    {
     "data": {
      "text/html": [
       "<div>\n",
       "<style scoped>\n",
       "    .dataframe tbody tr th:only-of-type {\n",
       "        vertical-align: middle;\n",
       "    }\n",
       "\n",
       "    .dataframe tbody tr th {\n",
       "        vertical-align: top;\n",
       "    }\n",
       "\n",
       "    .dataframe thead th {\n",
       "        text-align: right;\n",
       "    }\n",
       "</style>\n",
       "<table border=\"1\" class=\"dataframe\">\n",
       "  <thead>\n",
       "    <tr style=\"text-align: right;\">\n",
       "      <th></th>\n",
       "      <th>player_market_val</th>\n",
       "    </tr>\n",
       "    <tr>\n",
       "      <th>league</th>\n",
       "      <th></th>\n",
       "    </tr>\n",
       "  </thead>\n",
       "  <tbody>\n",
       "    <tr>\n",
       "      <th>Serie A</th>\n",
       "      <td>27500000.0</td>\n",
       "    </tr>\n",
       "    <tr>\n",
       "      <th>EPL</th>\n",
       "      <td>16500000.0</td>\n",
       "    </tr>\n",
       "    <tr>\n",
       "      <th>Bundesliga</th>\n",
       "      <td>12650000.0</td>\n",
       "    </tr>\n",
       "    <tr>\n",
       "      <th>La Liga</th>\n",
       "      <td>12411667.0</td>\n",
       "    </tr>\n",
       "    <tr>\n",
       "      <th>Serie B</th>\n",
       "      <td>9350000.0</td>\n",
       "    </tr>\n",
       "  </tbody>\n",
       "</table>\n",
       "</div>"
      ],
      "text/plain": [
       "            player_market_val\n",
       "league                       \n",
       "Serie A            27500000.0\n",
       "EPL                16500000.0\n",
       "Bundesliga         12650000.0\n",
       "La Liga            12411667.0\n",
       "Serie B             9350000.0"
      ]
     },
     "execution_count": 92,
     "metadata": {},
     "output_type": "execute_result"
    }
   ],
   "source": [
    "df.groupby(\"league\")[[\"player_market_val\"]].mean().round().sort_values([\"player_market_val\"], ascending = False).head(5)"
   ]
  },
  {
   "cell_type": "markdown",
   "id": "f38766d7",
   "metadata": {},
   "source": [
    "table sorts the players whos value is over 10 million and then displays them in a table in descending order"
   ]
  },
  {
   "cell_type": "code",
   "execution_count": 99,
   "id": "766ee9dd",
   "metadata": {},
   "outputs": [
    {
     "data": {
      "text/html": [
       "<div>\n",
       "<style scoped>\n",
       "    .dataframe tbody tr th:only-of-type {\n",
       "        vertical-align: middle;\n",
       "    }\n",
       "\n",
       "    .dataframe tbody tr th {\n",
       "        vertical-align: top;\n",
       "    }\n",
       "\n",
       "    .dataframe thead th {\n",
       "        text-align: right;\n",
       "    }\n",
       "</style>\n",
       "<table border=\"1\" class=\"dataframe\">\n",
       "  <thead>\n",
       "    <tr style=\"text-align: right;\">\n",
       "      <th></th>\n",
       "      <th>league</th>\n",
       "      <th>country_play_in</th>\n",
       "      <th>team</th>\n",
       "      <th>player_age</th>\n",
       "      <th>player_market_val</th>\n",
       "      <th>player_name</th>\n",
       "      <th>player_position</th>\n",
       "      <th>profile_link</th>\n",
       "    </tr>\n",
       "  </thead>\n",
       "  <tbody>\n",
       "    <tr>\n",
       "      <th>21</th>\n",
       "      <td>EPL</td>\n",
       "      <td>UK</td>\n",
       "      <td>Chelsea</td>\n",
       "      <td>23</td>\n",
       "      <td>46200000</td>\n",
       "      <td>Christian Pulisic</td>\n",
       "      <td>Right Winger</td>\n",
       "      <td>https://www.transfermarkt.com/christian-pulisi...</td>\n",
       "    </tr>\n",
       "    <tr>\n",
       "      <th>26</th>\n",
       "      <td>Bundesliga</td>\n",
       "      <td>Germany</td>\n",
       "      <td>Borussia Dortmund</td>\n",
       "      <td>19</td>\n",
       "      <td>38500000</td>\n",
       "      <td>Giovanni Reyna</td>\n",
       "      <td>Right Winger</td>\n",
       "      <td>https://www.transfermarkt.us/giovanni-reyna/pr...</td>\n",
       "    </tr>\n",
       "    <tr>\n",
       "      <th>14</th>\n",
       "      <td>Serie A</td>\n",
       "      <td>Italy</td>\n",
       "      <td>Juventus</td>\n",
       "      <td>23</td>\n",
       "      <td>27500000</td>\n",
       "      <td>Weston McKennie</td>\n",
       "      <td>Central Midfield</td>\n",
       "      <td>https://www.transfermarkt.com/weston-mckennie/...</td>\n",
       "    </tr>\n",
       "    <tr>\n",
       "      <th>18</th>\n",
       "      <td>EPL</td>\n",
       "      <td>UK</td>\n",
       "      <td>Leeds United</td>\n",
       "      <td>21</td>\n",
       "      <td>27500000</td>\n",
       "      <td>Brenden Aaronson</td>\n",
       "      <td>Attacking Midfield</td>\n",
       "      <td>https://www.transfermarkt.com/brenden-aaronson...</td>\n",
       "    </tr>\n",
       "    <tr>\n",
       "      <th>27</th>\n",
       "      <td>La Liga</td>\n",
       "      <td>Spain</td>\n",
       "      <td>Barcelona</td>\n",
       "      <td>21</td>\n",
       "      <td>19800000</td>\n",
       "      <td>Sergino Dest</td>\n",
       "      <td>Right-Back</td>\n",
       "      <td>https://www.transfermarkt.us/sergino-dest/prof...</td>\n",
       "    </tr>\n",
       "    <tr>\n",
       "      <th>12</th>\n",
       "      <td>EPL</td>\n",
       "      <td>UK</td>\n",
       "      <td>Leeds United</td>\n",
       "      <td>23</td>\n",
       "      <td>18700000</td>\n",
       "      <td>Tyler Adams</td>\n",
       "      <td>Defensive Midfield</td>\n",
       "      <td>https://www.transfermarkt.com/tyler-adams/prof...</td>\n",
       "    </tr>\n",
       "    <tr>\n",
       "      <th>15</th>\n",
       "      <td>La Liga</td>\n",
       "      <td>Spain</td>\n",
       "      <td>Valencia</td>\n",
       "      <td>19</td>\n",
       "      <td>16500000</td>\n",
       "      <td>Yunus Musah</td>\n",
       "      <td>Central Midfield</td>\n",
       "      <td>https://www.transfermarkt.com/yunus-musah/prof...</td>\n",
       "    </tr>\n",
       "    <tr>\n",
       "      <th>23</th>\n",
       "      <td>Ligue 1</td>\n",
       "      <td>France</td>\n",
       "      <td>Lille</td>\n",
       "      <td>22</td>\n",
       "      <td>13200000</td>\n",
       "      <td>Timothy Weah</td>\n",
       "      <td>Centre-Forward</td>\n",
       "      <td>https://www.transfermarkt.com/timothy-weah/pro...</td>\n",
       "    </tr>\n",
       "  </tbody>\n",
       "</table>\n",
       "</div>"
      ],
      "text/plain": [
       "        league country_play_in               team  player_age  \\\n",
       "21         EPL              UK            Chelsea          23   \n",
       "26  Bundesliga         Germany  Borussia Dortmund          19   \n",
       "14     Serie A           Italy           Juventus          23   \n",
       "18         EPL              UK       Leeds United          21   \n",
       "27     La Liga           Spain          Barcelona          21   \n",
       "12         EPL              UK       Leeds United          23   \n",
       "15     La Liga           Spain           Valencia          19   \n",
       "23     Ligue 1          France              Lille          22   \n",
       "\n",
       "    player_market_val        player_name     player_position  \\\n",
       "21           46200000  Christian Pulisic        Right Winger   \n",
       "26           38500000     Giovanni Reyna        Right Winger   \n",
       "14           27500000    Weston McKennie    Central Midfield   \n",
       "18           27500000   Brenden Aaronson  Attacking Midfield   \n",
       "27           19800000       Sergino Dest          Right-Back   \n",
       "12           18700000        Tyler Adams  Defensive Midfield   \n",
       "15           16500000        Yunus Musah    Central Midfield   \n",
       "23           13200000       Timothy Weah      Centre-Forward   \n",
       "\n",
       "                                         profile_link  \n",
       "21  https://www.transfermarkt.com/christian-pulisi...  \n",
       "26  https://www.transfermarkt.us/giovanni-reyna/pr...  \n",
       "14  https://www.transfermarkt.com/weston-mckennie/...  \n",
       "18  https://www.transfermarkt.com/brenden-aaronson...  \n",
       "27  https://www.transfermarkt.us/sergino-dest/prof...  \n",
       "12  https://www.transfermarkt.com/tyler-adams/prof...  \n",
       "15  https://www.transfermarkt.com/yunus-musah/prof...  \n",
       "23  https://www.transfermarkt.com/timothy-weah/pro...  "
      ]
     },
     "execution_count": 99,
     "metadata": {},
     "output_type": "execute_result"
    }
   ],
   "source": [
    "df_1 = df[\"player_market_val\"] > 10000000\n",
    "df2 = df[df_1]\n",
    "df2.sort_values([\"player_market_val\"],ascending = False).head(10)"
   ]
  },
  {
   "cell_type": "markdown",
   "id": "c1c86226",
   "metadata": {},
   "source": [
    "this takes the table above and puts it into a scatterplot "
   ]
  },
  {
   "cell_type": "code",
   "execution_count": 105,
   "id": "30a3a02d",
   "metadata": {
    "scrolled": true
   },
   "outputs": [
    {
     "data": {
      "text/plain": [
       "Text(0.5, 1.0, \"USMNT player's valued over 10 million\")"
      ]
     },
     "execution_count": 105,
     "metadata": {},
     "output_type": "execute_result"
    },
    {
     "data": {
      "image/png": "[encoded data removed]",
      "text/plain": [
       "<Figure size 432x288 with 1 Axes>"
      ]
     },
     "metadata": {
      "needs_background": "light"
     },
     "output_type": "display_data"
    }
   ],
   "source": [
    "sns.scatterplot(data = df2,x = \"player_age\",y = \"player_market_val\")\n",
    "plt.xlabel(\"Age\")\n",
    "plt.ylabel(\"Market Value\")\n",
    "plt.title(\"USMNT player's valued over 10 million\")"
   ]
  },
  {
   "cell_type": "markdown",
   "id": "3ce6829e",
   "metadata": {},
   "source": [
    "Finding the top leagues players valued over 10 million play in"
   ]
  },
  {
   "cell_type": "code",
   "execution_count": 118,
   "id": "97df1fb4",
   "metadata": {},
   "outputs": [
    {
     "data": {
      "text/plain": [
       "Text(0.5, 1.0, 'Count of USMNT players valued over 10 million in each league')"
      ]
     },
     "execution_count": 118,
     "metadata": {},
     "output_type": "execute_result"
    },
    {
     "data": {
      "image/png": "[encoded data removed]",
      "text/plain": [
       "<Figure size 432x288 with 1 Axes>"
      ]
     },
     "metadata": {
      "needs_background": "light"
     },
     "output_type": "display_data"
    }
   ],
   "source": [
    "sns.countplot(y='league',order = df2['league'] .value_counts().index[0:],data = df2)\n",
    "plt.xlabel(\"Count\")\n",
    "plt.ylabel(\"League\")\n",
    "plt.title(\"Count of USMNT players valued over 10 million in each league\")"
   ]
  }
 ],
 "metadata": {
  "kernelspec": {
   "display_name": "Python 3 (ipykernel)",
   "language": "python",
   "name": "python3"
  },
  "language_info": {
   "codemirror_mode": {
    "name": "ipython",
    "version": 3
   },
   "file_extension": ".py",
   "mimetype": "text/x-python",
   "name": "python",
   "nbconvert_exporter": "python",
   "pygments_lexer": "ipython3",
   "version": "3.9.6"
  }
 },
 "nbformat": 4,
 "nbformat_minor": 5
}
